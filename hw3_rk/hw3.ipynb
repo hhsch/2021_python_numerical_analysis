{
 "cells": [
  {
   "cell_type": "markdown",
   "metadata": {},
   "source": [
    "# Problem 2"
   ]
  },
  {
   "cell_type": "markdown",
   "metadata": {},
   "source": [
    "## (a)\n",
    "\n",
    "The real part of the region of absolute stability for this method with our chosen parameters is approximately the interval $[-1.478, 0]$, as calculated and displayed below."
   ]
  },
  {
   "cell_type": "code",
   "execution_count": 1,
   "metadata": {},
   "outputs": [],
   "source": [
    "# Adapted from code from class\n",
    "\n",
    "import numpy as np\n",
    "import matplotlib.pyplot as plt\n",
    "%matplotlib inline\n",
    "\n",
    "# Specific coefficients chosen to make method 3rd order\n",
    "b21 = 1\n",
    "b31 = 1\n",
    "b43 = 1/6\n",
    "b32 = -1/2 + 1j*np.sqrt(3)/2\n",
    "b42 = 1/3 - 1/6*b32\n",
    "b41 = 5/6 - b42"
   ]
  },
  {
   "cell_type": "code",
   "execution_count": 4,
   "metadata": {},
   "outputs": [
    {
     "name": "stdout",
     "output_type": "stream",
     "text": [
      "left: -1.4780000000000575\n"
     ]
    }
   ],
   "source": [
    "def eigenvalue(hl):\n",
    "    # Test eigenvalues along real axis\n",
    "    return abs( 1 + (b41+b42+b43)*hl + (b42*b21+b43*b31+b43*b32)*hl**2\n",
    "              + (b43*b32*b21)*hl**3)  # 3-stage RK method\n",
    "\n",
    "r = 2\n",
    "x = np.arange(-r,r, 0.001)\n",
    "z = eigenvalue(x)\n",
    "\n",
    "# leftmost point on real axis for which method will converge\n",
    "left = x[-1]\n",
    "for i in range(len(x)):\n",
    "    if z[-i] < 1 and abs(z[-i] - 1) < 1e-2:\n",
    "        left = x[-i]\n",
    "        \n",
    "print(f'left: {left}')"
   ]
  },
  {
   "cell_type": "markdown",
   "metadata": {},
   "source": [
    "## (b)"
   ]
  },
  {
   "cell_type": "code",
   "execution_count": 3,
   "metadata": {},
   "outputs": [
    {
     "data": {
      "image/png": "[encoded data removed]",
      "text/plain": [
       "<Figure size 432x432 with 1 Axes>"
      ]
     },
     "metadata": {
      "needs_background": "light"
     },
     "output_type": "display_data"
    }
   ],
   "source": [
    "def eigenvalue(hlre,hlim):\n",
    "    hl = hlre+hlim*1j # form the complex hlambda from real and imaginary part\n",
    "    return abs( 1 + (b41+b42+b43)*hl + (b42*b21+b43*b31+b43*b32)*hl**2\n",
    "              + (b43*b32*b21)*hl**3)  # 3-stage RK method\n",
    "\n",
    "r = 2  # plot box radius\n",
    "x = np.arange(-r,r, 0.1)\n",
    "y = np.arange(-r,r, 0.1)\n",
    "X, Y = np.meshgrid(x, y)  # grid of points to evaluate eigenvalue\n",
    "\n",
    "Z = eigenvalue(X,Y)\n",
    "\n",
    "fig, ax = plt.subplots(figsize=(6,6))\n",
    "ax.contourf(X,Y,Z,levels=[0,1])\n",
    "ax.contour(X,Y,Z,levels=[1])\n",
    "plt.grid()\n",
    "plt.title('region of absolute stability in $\\mathbb{C}$ for 3rd order 3-stage RK method')\n",
    "plt.show()"
   ]
  },
  {
   "cell_type": "code",
   "execution_count": null,
   "metadata": {},
   "outputs": [],
   "source": []
  }
 ],
 "metadata": {
  "kernelspec": {
   "display_name": "Python 3 (ipykernel)",
   "language": "python",
   "name": "python3"
  },
  "language_info": {
   "codemirror_mode": {
    "name": "ipython",
    "version": 3
   },
   "file_extension": ".py",
   "mimetype": "text/x-python",
   "name": "python",
   "nbconvert_exporter": "python",
   "pygments_lexer": "ipython3",
   "version": "3.10.2"
  }
 },
 "nbformat": 4,
 "nbformat_minor": 4
}
